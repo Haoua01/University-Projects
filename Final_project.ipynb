{
 "cells": [
  {
   "cell_type": "code",
   "execution_count": 1,
   "metadata": {},
   "outputs": [],
   "source": [
    "import pandas as pd"
   ]
  },
  {
   "cell_type": "code",
   "execution_count": 46,
   "metadata": {},
   "outputs": [],
   "source": [
    "df_2024 = pd.read_csv('/Users/haouabenaliabbo/Desktop/M2 IREN/SD/SOD_CustomDownload_ALL_2024_06_30.csv')\n",
    "df_2020 = pd.read_csv('/Users/haouabenaliabbo/Desktop/M2 IREN/SD/SOD_CustomDownload_ALL_2020_06_30.csv')\n",
    "df_2015 = pd.read_csv('/Users/haouabenaliabbo/Desktop/M2 IREN/SD/SOD_CustomDownload_ALL_2015_06_30.csv')\n",
    "df_2010 = pd.read_csv('/Users/haouabenaliabbo/Desktop/M2 IREN/SD/SOD_CustomDownload_ALL_2010_06_30.csv')\n",
    "df_2005 = pd.read_csv('/Users/haouabenaliabbo/Desktop/M2 IREN/SD/SOD_CustomDownload_ALL_2005_06_30.csv')\n",
    "df_2000 = pd.read_csv('/Users/haouabenaliabbo/Desktop/M2 IREN/SD/SOD_CustomDownload_ALL_2000_06_30.csv')\n",
    "df_1995 = pd.read_csv('/Users/haouabenaliabbo/Desktop/M2 IREN/SD/SOD_CustomDownload_ALL_1995_06_30.csv')"
   ]
  },
  {
   "cell_type": "code",
   "execution_count": 44,
   "metadata": {},
   "outputs": [
    {
     "data": {
      "text/html": [
       "<div>\n",
       "<style scoped>\n",
       "    .dataframe tbody tr th:only-of-type {\n",
       "        vertical-align: middle;\n",
       "    }\n",
       "\n",
       "    .dataframe tbody tr th {\n",
       "        vertical-align: top;\n",
       "    }\n",
       "\n",
       "    .dataframe thead th {\n",
       "        text-align: right;\n",
       "    }\n",
       "</style>\n",
       "<table border=\"1\" class=\"dataframe\">\n",
       "  <thead>\n",
       "    <tr style=\"text-align: right;\">\n",
       "      <th></th>\n",
       "      <th>ASSET</th>\n",
       "      <th>BKCLASS</th>\n",
       "      <th>CHARTER</th>\n",
       "      <th>CITY</th>\n",
       "      <th>DEPDOM</th>\n",
       "      <th>DEPSUMBR</th>\n",
       "      <th>HCTMULT</th>\n",
       "      <th>INSAGNT1</th>\n",
       "      <th>SIMS_ESTABLISHED_DATE</th>\n",
       "      <th>SIMS_LATITUDE</th>\n",
       "      <th>...</th>\n",
       "      <th>SPECGRP</th>\n",
       "      <th>STNAMEBR</th>\n",
       "      <th>ZIPBR</th>\n",
       "      <th>YEAR</th>\n",
       "      <th>CERT</th>\n",
       "      <th>NAMEFULL</th>\n",
       "      <th>ADDRESBR</th>\n",
       "      <th>BRNUM</th>\n",
       "      <th>UNINUMBR</th>\n",
       "      <th>STALPBR</th>\n",
       "    </tr>\n",
       "  </thead>\n",
       "  <tbody>\n",
       "    <tr>\n",
       "      <th>0</th>\n",
       "      <td>321473000</td>\n",
       "      <td>SM</td>\n",
       "      <td>STATE</td>\n",
       "      <td>Boston</td>\n",
       "      <td>179519000.0</td>\n",
       "      <td>179519000</td>\n",
       "      <td>MULT</td>\n",
       "      <td>DIF</td>\n",
       "      <td>01/01/1792</td>\n",
       "      <td>42.362854</td>\n",
       "      <td>...</td>\n",
       "      <td>1</td>\n",
       "      <td>Massachusetts</td>\n",
       "      <td>2114</td>\n",
       "      <td>2024</td>\n",
       "      <td>14</td>\n",
       "      <td>State Street Bank and Trust Company</td>\n",
       "      <td>One Congress Street, Suite 1</td>\n",
       "      <td>0</td>\n",
       "      <td>6</td>\n",
       "      <td>MA</td>\n",
       "    </tr>\n",
       "    <tr>\n",
       "      <th>1</th>\n",
       "      <td>321473000</td>\n",
       "      <td>SM</td>\n",
       "      <td>STATE</td>\n",
       "      <td>Boston</td>\n",
       "      <td>179519000.0</td>\n",
       "      <td>0</td>\n",
       "      <td>MULT</td>\n",
       "      <td>DIF</td>\n",
       "      <td>11/01/2000</td>\n",
       "      <td>39.100406</td>\n",
       "      <td>...</td>\n",
       "      <td>1</td>\n",
       "      <td>Missouri</td>\n",
       "      <td>64105</td>\n",
       "      <td>2024</td>\n",
       "      <td>14</td>\n",
       "      <td>State Street Bank and Trust Company</td>\n",
       "      <td>1100 Main St, Floor 3</td>\n",
       "      <td>30</td>\n",
       "      <td>614738</td>\n",
       "      <td>MO</td>\n",
       "    </tr>\n",
       "    <tr>\n",
       "      <th>2</th>\n",
       "      <td>321473000</td>\n",
       "      <td>SM</td>\n",
       "      <td>STATE</td>\n",
       "      <td>Boston</td>\n",
       "      <td>179519000.0</td>\n",
       "      <td>0</td>\n",
       "      <td>MULT</td>\n",
       "      <td>DIF</td>\n",
       "      <td>09/16/2020</td>\n",
       "      <td>40.726929</td>\n",
       "      <td>...</td>\n",
       "      <td>1</td>\n",
       "      <td>New Jersey</td>\n",
       "      <td>7310</td>\n",
       "      <td>2024</td>\n",
       "      <td>14</td>\n",
       "      <td>State Street Bank and Trust Company</td>\n",
       "      <td>525 Washington Blvd</td>\n",
       "      <td>31</td>\n",
       "      <td>627595</td>\n",
       "      <td>NJ</td>\n",
       "    </tr>\n",
       "    <tr>\n",
       "      <th>3</th>\n",
       "      <td>1025510</td>\n",
       "      <td>SM</td>\n",
       "      <td>STATE</td>\n",
       "      <td>Auburn</td>\n",
       "      <td>947493.0</td>\n",
       "      <td>507256</td>\n",
       "      <td>ONE</td>\n",
       "      <td>DIF</td>\n",
       "      <td>01/03/1907</td>\n",
       "      <td>32.606793</td>\n",
       "      <td>...</td>\n",
       "      <td>4</td>\n",
       "      <td>Alabama</td>\n",
       "      <td>36830</td>\n",
       "      <td>2024</td>\n",
       "      <td>35</td>\n",
       "      <td>AuburnBank</td>\n",
       "      <td>100 N Gay St</td>\n",
       "      <td>0</td>\n",
       "      <td>17</td>\n",
       "      <td>AL</td>\n",
       "    </tr>\n",
       "    <tr>\n",
       "      <th>4</th>\n",
       "      <td>1025510</td>\n",
       "      <td>SM</td>\n",
       "      <td>STATE</td>\n",
       "      <td>Auburn</td>\n",
       "      <td>947493.0</td>\n",
       "      <td>42766</td>\n",
       "      <td>ONE</td>\n",
       "      <td>DIF</td>\n",
       "      <td>07/12/2007</td>\n",
       "      <td>32.622753</td>\n",
       "      <td>...</td>\n",
       "      <td>4</td>\n",
       "      <td>Alabama</td>\n",
       "      <td>36801</td>\n",
       "      <td>2024</td>\n",
       "      <td>35</td>\n",
       "      <td>AuburnBank</td>\n",
       "      <td>1851 Frederick Rd</td>\n",
       "      <td>10</td>\n",
       "      <td>478897</td>\n",
       "      <td>AL</td>\n",
       "    </tr>\n",
       "  </tbody>\n",
       "</table>\n",
       "<p>5 rows × 21 columns</p>\n",
       "</div>"
      ],
      "text/plain": [
       "       ASSET BKCLASS CHARTER    CITY       DEPDOM   DEPSUMBR HCTMULT INSAGNT1  \\\n",
       "0  321473000      SM   STATE  Boston  179519000.0  179519000    MULT      DIF   \n",
       "1  321473000      SM   STATE  Boston  179519000.0          0    MULT      DIF   \n",
       "2  321473000      SM   STATE  Boston  179519000.0          0    MULT      DIF   \n",
       "3    1025510      SM   STATE  Auburn     947493.0     507256     ONE      DIF   \n",
       "4    1025510      SM   STATE  Auburn     947493.0      42766     ONE      DIF   \n",
       "\n",
       "  SIMS_ESTABLISHED_DATE  SIMS_LATITUDE  ...  SPECGRP       STNAMEBR  ZIPBR  \\\n",
       "0            01/01/1792      42.362854  ...        1  Massachusetts   2114   \n",
       "1            11/01/2000      39.100406  ...        1       Missouri  64105   \n",
       "2            09/16/2020      40.726929  ...        1     New Jersey   7310   \n",
       "3            01/03/1907      32.606793  ...        4        Alabama  36830   \n",
       "4            07/12/2007      32.622753  ...        4        Alabama  36801   \n",
       "\n",
       "   YEAR  CERT                             NAMEFULL  \\\n",
       "0  2024    14  State Street Bank and Trust Company   \n",
       "1  2024    14  State Street Bank and Trust Company   \n",
       "2  2024    14  State Street Bank and Trust Company   \n",
       "3  2024    35                           AuburnBank   \n",
       "4  2024    35                           AuburnBank   \n",
       "\n",
       "                       ADDRESBR BRNUM  UNINUMBR  STALPBR  \n",
       "0  One Congress Street, Suite 1     0         6       MA  \n",
       "1         1100 Main St, Floor 3    30    614738       MO  \n",
       "2           525 Washington Blvd    31    627595       NJ  \n",
       "3                  100 N Gay St     0        17       AL  \n",
       "4             1851 Frederick Rd    10    478897       AL  \n",
       "\n",
       "[5 rows x 21 columns]"
      ]
     },
     "execution_count": 44,
     "metadata": {},
     "output_type": "execute_result"
    }
   ],
   "source": [
    "df_2024.head()"
   ]
  },
  {
   "cell_type": "code",
   "execution_count": 27,
   "metadata": {},
   "outputs": [
    {
     "data": {
      "text/plain": [
       "21"
      ]
     },
     "execution_count": 27,
     "metadata": {},
     "output_type": "execute_result"
    }
   ],
   "source": [
    "len(df_2024.columns)"
   ]
  },
  {
   "cell_type": "code",
   "execution_count": 12,
   "metadata": {},
   "outputs": [],
   "source": [
    "columns_of_interest = [\"YEAR\",\"CERT\",\"NAMEFULL\",\"ADDRESBR\",\"BRNUM\",\"UNINUMBR\",\"STALPBR\",\"ASSET\",\"BKCLASS\",\"CHARTER\",\"CITY\",\"DEPDOM\",\"INSAGNT1\",\"SPECGRP\", \"STNAMEBR\", \"DEPSUMBR\", \"SIMS_ESTABLISHED_DATE\",\"SIMS_LATITUDE\",\"SIMS_LONGITUDE\", \"ZIPBR\", \"HCTMULT\"]"
   ]
  },
  {
   "cell_type": "code",
   "execution_count": 39,
   "metadata": {},
   "outputs": [
    {
     "name": "stderr",
     "output_type": "stream",
     "text": [
      "/var/folders/ff/yktmxqg92pz87mqxrr842r1r0000gn/T/ipykernel_91925/3791657075.py:3: SettingWithCopyWarning: \n",
      "A value is trying to be set on a copy of a slice from a DataFrame\n",
      "\n",
      "See the caveats in the documentation: https://pandas.pydata.org/pandas-docs/stable/user_guide/indexing.html#returning-a-view-versus-a-copy\n",
      "  df_geo.rename(columns={\"SIMS_LATITUDE\": \"Latitude\", \"SIMS_LONGITUDE\": \"Longitude\"}, inplace=True)\n"
     ]
    },
    {
     "data": {
      "text/html": [
       "<div>\n",
       "<style scoped>\n",
       "    .dataframe tbody tr th:only-of-type {\n",
       "        vertical-align: middle;\n",
       "    }\n",
       "\n",
       "    .dataframe tbody tr th {\n",
       "        vertical-align: top;\n",
       "    }\n",
       "\n",
       "    .dataframe thead th {\n",
       "        text-align: right;\n",
       "    }\n",
       "</style>\n",
       "<table border=\"1\" class=\"dataframe\">\n",
       "  <thead>\n",
       "    <tr style=\"text-align: right;\">\n",
       "      <th></th>\n",
       "      <th>NAMEFULL</th>\n",
       "      <th>Latitude</th>\n",
       "      <th>Longitude</th>\n",
       "    </tr>\n",
       "  </thead>\n",
       "  <tbody>\n",
       "    <tr>\n",
       "      <th>0</th>\n",
       "      <td>State Street Bank and Trust Company</td>\n",
       "      <td>42.362854</td>\n",
       "      <td>-71.059826</td>\n",
       "    </tr>\n",
       "    <tr>\n",
       "      <th>1</th>\n",
       "      <td>State Street Bank and Trust Company</td>\n",
       "      <td>39.100406</td>\n",
       "      <td>-94.583772</td>\n",
       "    </tr>\n",
       "    <tr>\n",
       "      <th>2</th>\n",
       "      <td>State Street Bank and Trust Company</td>\n",
       "      <td>40.726929</td>\n",
       "      <td>-74.035569</td>\n",
       "    </tr>\n",
       "    <tr>\n",
       "      <th>3</th>\n",
       "      <td>AuburnBank</td>\n",
       "      <td>32.606793</td>\n",
       "      <td>-85.479603</td>\n",
       "    </tr>\n",
       "    <tr>\n",
       "      <th>4</th>\n",
       "      <td>AuburnBank</td>\n",
       "      <td>32.622753</td>\n",
       "      <td>-85.403214</td>\n",
       "    </tr>\n",
       "  </tbody>\n",
       "</table>\n",
       "</div>"
      ],
      "text/plain": [
       "                              NAMEFULL   Latitude  Longitude\n",
       "0  State Street Bank and Trust Company  42.362854 -71.059826\n",
       "1  State Street Bank and Trust Company  39.100406 -94.583772\n",
       "2  State Street Bank and Trust Company  40.726929 -74.035569\n",
       "3                           AuburnBank  32.606793 -85.479603\n",
       "4                           AuburnBank  32.622753 -85.403214"
      ]
     },
     "execution_count": 39,
     "metadata": {},
     "output_type": "execute_result"
    }
   ],
   "source": [
    "df_geo=df_2024[[\"NAMEFULL\",\"SIMS_LATITUDE\", \"SIMS_LONGITUDE\"]]\n",
    "#rename columns to Latitute and Longitude\n",
    "df_geo.rename(columns={\"SIMS_LATITUDE\": \"Latitude\", \"SIMS_LONGITUDE\": \"Longitude\"}, inplace=True)\n",
    "df_geo.head()"
   ]
  },
  {
   "cell_type": "code",
   "execution_count": 40,
   "metadata": {},
   "outputs": [],
   "source": [
    "#save geolocations to a shapefile\n",
    "from geopandas import GeoDataFrame\n",
    "from shapely.geometry import Point\n",
    "\n",
    "geometry = [Point(xy) for xy in zip(df_geo[\"Longitude\"], df_geo[\"Latitude\"])]\n",
    "gdf = GeoDataFrame(df_geo, geometry=geometry)\n",
    "\n",
    "gdf.to_file('/Users/haouabenaliabbo/Desktop/M2 IREN/SD/2024.shp')"
   ]
  },
  {
   "cell_type": "code",
   "execution_count": 41,
   "metadata": {},
   "outputs": [
    {
     "name": "stderr",
     "output_type": "stream",
     "text": [
      "/var/folders/ff/yktmxqg92pz87mqxrr842r1r0000gn/T/ipykernel_91925/2957907902.py:2: SettingWithCopyWarning: \n",
      "A value is trying to be set on a copy of a slice from a DataFrame\n",
      "\n",
      "See the caveats in the documentation: https://pandas.pydata.org/pandas-docs/stable/user_guide/indexing.html#returning-a-view-versus-a-copy\n",
      "  df_geo_2020.rename(columns={\"SIMS_LATITUDE\": \"Latitude\", \"SIMS_LONGITUDE\": \"Longitude\"}, inplace=True)\n"
     ]
    }
   ],
   "source": [
    "df_geo_2020=df_2020[[\"NAMEFULL\",\"SIMS_LATITUDE\", \"SIMS_LONGITUDE\"]]\n",
    "df_geo_2020.rename(columns={\"SIMS_LATITUDE\": \"Latitude\", \"SIMS_LONGITUDE\": \"Longitude\"}, inplace=True)\n",
    "geometry = [Point(xy) for xy in zip(df_geo_2020[\"Longitude\"], df_geo_2020[\"Latitude\"])]\n",
    "gdf_2020 = GeoDataFrame(df_geo_2020, geometry=geometry)\n",
    "gdf_2020.to_file('/Users/haouabenaliabbo/Desktop/M2 IREN/SD/2020.shp')"
   ]
  },
  {
   "cell_type": "code",
   "execution_count": 45,
   "metadata": {},
   "outputs": [
    {
     "name": "stderr",
     "output_type": "stream",
     "text": [
      "/var/folders/ff/yktmxqg92pz87mqxrr842r1r0000gn/T/ipykernel_91925/3483030142.py:4: SettingWithCopyWarning: \n",
      "A value is trying to be set on a copy of a slice from a DataFrame\n",
      "\n",
      "See the caveats in the documentation: https://pandas.pydata.org/pandas-docs/stable/user_guide/indexing.html#returning-a-view-versus-a-copy\n",
      "  df_geo.rename(columns={\"SIMS_LATITUDE\": \"Latitude\", \"SIMS_LONGITUDE\": \"Longitude\"}, inplace=True)\n",
      "/var/folders/ff/yktmxqg92pz87mqxrr842r1r0000gn/T/ipykernel_91925/3483030142.py:4: SettingWithCopyWarning: \n",
      "A value is trying to be set on a copy of a slice from a DataFrame\n",
      "\n",
      "See the caveats in the documentation: https://pandas.pydata.org/pandas-docs/stable/user_guide/indexing.html#returning-a-view-versus-a-copy\n",
      "  df_geo.rename(columns={\"SIMS_LATITUDE\": \"Latitude\", \"SIMS_LONGITUDE\": \"Longitude\"}, inplace=True)\n",
      "/var/folders/ff/yktmxqg92pz87mqxrr842r1r0000gn/T/ipykernel_91925/3483030142.py:4: SettingWithCopyWarning: \n",
      "A value is trying to be set on a copy of a slice from a DataFrame\n",
      "\n",
      "See the caveats in the documentation: https://pandas.pydata.org/pandas-docs/stable/user_guide/indexing.html#returning-a-view-versus-a-copy\n",
      "  df_geo.rename(columns={\"SIMS_LATITUDE\": \"Latitude\", \"SIMS_LONGITUDE\": \"Longitude\"}, inplace=True)\n",
      "/var/folders/ff/yktmxqg92pz87mqxrr842r1r0000gn/T/ipykernel_91925/3483030142.py:4: SettingWithCopyWarning: \n",
      "A value is trying to be set on a copy of a slice from a DataFrame\n",
      "\n",
      "See the caveats in the documentation: https://pandas.pydata.org/pandas-docs/stable/user_guide/indexing.html#returning-a-view-versus-a-copy\n",
      "  df_geo.rename(columns={\"SIMS_LATITUDE\": \"Latitude\", \"SIMS_LONGITUDE\": \"Longitude\"}, inplace=True)\n",
      "/var/folders/ff/yktmxqg92pz87mqxrr842r1r0000gn/T/ipykernel_91925/3483030142.py:4: SettingWithCopyWarning: \n",
      "A value is trying to be set on a copy of a slice from a DataFrame\n",
      "\n",
      "See the caveats in the documentation: https://pandas.pydata.org/pandas-docs/stable/user_guide/indexing.html#returning-a-view-versus-a-copy\n",
      "  df_geo.rename(columns={\"SIMS_LATITUDE\": \"Latitude\", \"SIMS_LONGITUDE\": \"Longitude\"}, inplace=True)\n",
      "/var/folders/ff/yktmxqg92pz87mqxrr842r1r0000gn/T/ipykernel_91925/3483030142.py:4: SettingWithCopyWarning: \n",
      "A value is trying to be set on a copy of a slice from a DataFrame\n",
      "\n",
      "See the caveats in the documentation: https://pandas.pydata.org/pandas-docs/stable/user_guide/indexing.html#returning-a-view-versus-a-copy\n",
      "  df_geo.rename(columns={\"SIMS_LATITUDE\": \"Latitude\", \"SIMS_LONGITUDE\": \"Longitude\"}, inplace=True)\n"
     ]
    }
   ],
   "source": [
    "for year in range(1995,2025,5):\n",
    "    df = pd.read_csv(f'/Users/haouabenaliabbo/Desktop/M2 IREN/SD/SOD_CustomDownload_ALL_{year}_06_30.csv')\n",
    "    df_geo=df[[\"NAMEFULL\",\"SIMS_LATITUDE\", \"SIMS_LONGITUDE\"]]\n",
    "    df_geo.rename(columns={\"SIMS_LATITUDE\": \"Latitude\", \"SIMS_LONGITUDE\": \"Longitude\"}, inplace=True)\n",
    "    geometry = [Point(xy) for xy in zip(df_geo[\"Longitude\"], df_geo[\"Latitude\"])]\n",
    "    gdf = GeoDataFrame(df_geo, geometry=geometry)\n",
    "    gdf.to_file(f'/Users/haouabenaliabbo/Desktop/M2 IREN/SD/{year}.shp')"
   ]
  },
  {
   "cell_type": "code",
   "execution_count": 54,
   "metadata": {},
   "outputs": [
    {
     "name": "stderr",
     "output_type": "stream",
     "text": [
      "/var/folders/ff/yktmxqg92pz87mqxrr842r1r0000gn/T/ipykernel_91925/3134873897.py:7: SettingWithCopyWarning: \n",
      "A value is trying to be set on a copy of a slice from a DataFrame\n",
      "\n",
      "See the caveats in the documentation: https://pandas.pydata.org/pandas-docs/stable/user_guide/indexing.html#returning-a-view-versus-a-copy\n",
      "  df_geo_new.rename(columns={\"SIMS_LATITUDE\": \"Latitude\", \"SIMS_LONGITUDE\": \"Longitude\"}, inplace=True)\n",
      "/var/folders/ff/yktmxqg92pz87mqxrr842r1r0000gn/T/ipykernel_91925/3134873897.py:7: SettingWithCopyWarning: \n",
      "A value is trying to be set on a copy of a slice from a DataFrame\n",
      "\n",
      "See the caveats in the documentation: https://pandas.pydata.org/pandas-docs/stable/user_guide/indexing.html#returning-a-view-versus-a-copy\n",
      "  df_geo_new.rename(columns={\"SIMS_LATITUDE\": \"Latitude\", \"SIMS_LONGITUDE\": \"Longitude\"}, inplace=True)\n",
      "/var/folders/ff/yktmxqg92pz87mqxrr842r1r0000gn/T/ipykernel_91925/3134873897.py:7: SettingWithCopyWarning: \n",
      "A value is trying to be set on a copy of a slice from a DataFrame\n",
      "\n",
      "See the caveats in the documentation: https://pandas.pydata.org/pandas-docs/stable/user_guide/indexing.html#returning-a-view-versus-a-copy\n",
      "  df_geo_new.rename(columns={\"SIMS_LATITUDE\": \"Latitude\", \"SIMS_LONGITUDE\": \"Longitude\"}, inplace=True)\n",
      "/var/folders/ff/yktmxqg92pz87mqxrr842r1r0000gn/T/ipykernel_91925/3134873897.py:7: SettingWithCopyWarning: \n",
      "A value is trying to be set on a copy of a slice from a DataFrame\n",
      "\n",
      "See the caveats in the documentation: https://pandas.pydata.org/pandas-docs/stable/user_guide/indexing.html#returning-a-view-versus-a-copy\n",
      "  df_geo_new.rename(columns={\"SIMS_LATITUDE\": \"Latitude\", \"SIMS_LONGITUDE\": \"Longitude\"}, inplace=True)\n",
      "/var/folders/ff/yktmxqg92pz87mqxrr842r1r0000gn/T/ipykernel_91925/3134873897.py:7: SettingWithCopyWarning: \n",
      "A value is trying to be set on a copy of a slice from a DataFrame\n",
      "\n",
      "See the caveats in the documentation: https://pandas.pydata.org/pandas-docs/stable/user_guide/indexing.html#returning-a-view-versus-a-copy\n",
      "  df_geo_new.rename(columns={\"SIMS_LATITUDE\": \"Latitude\", \"SIMS_LONGITUDE\": \"Longitude\"}, inplace=True)\n"
     ]
    }
   ],
   "source": [
    "#save geolocations to a shapefile\n",
    "for year in range(2000,2025,5):\n",
    "    df = pd.read_csv(f'/Users/haouabenaliabbo/Desktop/M2 IREN/SD/SOD_CustomDownload_ALL_{year}_06_30.csv')\n",
    "    df_past=pd.read_csv(f'/Users/haouabenaliabbo/Desktop/M2 IREN/SD/SOD_CustomDownload_ALL_{year-5}_06_30.csv')\n",
    "    new= df[~df.NAMEFULL.isin(df_past.NAMEFULL)]\n",
    "    df_geo_new=new[[\"NAMEFULL\",\"SIMS_LATITUDE\", \"SIMS_LONGITUDE\"]]\n",
    "    df_geo_new.rename(columns={\"SIMS_LATITUDE\": \"Latitude\", \"SIMS_LONGITUDE\": \"Longitude\"}, inplace=True)\n",
    "    geometry = [Point(xy) for xy in zip(df_geo_new[\"Longitude\"], df_geo_new[\"Latitude\"])]\n",
    "    gdf_new_2000 = GeoDataFrame(df_geo_new, geometry=geometry)\n",
    "    gdf_new_2000.to_file(f'/Users/haouabenaliabbo/Desktop/M2 IREN/SD/new_{year}.shp')\n",
    "\n"
   ]
  },
  {
   "cell_type": "code",
   "execution_count": 57,
   "metadata": {},
   "outputs": [
    {
     "name": "stdout",
     "output_type": "stream",
     "text": [
      "There was 33916 new bank branches in 2000\n",
      "There was 16542 new bank branches in 2005\n",
      "There was 12026 new bank branches in 2010\n",
      "There was 7644 new bank branches in 2015\n",
      "There was 23731 new bank branches in 2020\n"
     ]
    }
   ],
   "source": [
    "#save geolocations to a shapefile\n",
    "for year in range(2000,2025,5):\n",
    "    df = pd.read_csv(f'/Users/haouabenaliabbo/Desktop/M2 IREN/SD/SOD_CustomDownload_ALL_{year}_06_30.csv')\n",
    "    df_past=pd.read_csv(f'/Users/haouabenaliabbo/Desktop/M2 IREN/SD/SOD_CustomDownload_ALL_{year-5}_06_30.csv')\n",
    "    new= df[~df.NAMEFULL.isin(df_past.NAMEFULL)]\n",
    "    df_geo_new=new[[\"NAMEFULL\"]]\n",
    "    print(f'There was {len(df_geo_new)} new bank branches in {year}')   "
   ]
  },
  {
   "cell_type": "code",
   "execution_count": 55,
   "metadata": {},
   "outputs": [
    {
     "name": "stderr",
     "output_type": "stream",
     "text": [
      "/var/folders/ff/yktmxqg92pz87mqxrr842r1r0000gn/T/ipykernel_91925/1812062437.py:6: SettingWithCopyWarning: \n",
      "A value is trying to be set on a copy of a slice from a DataFrame\n",
      "\n",
      "See the caveats in the documentation: https://pandas.pydata.org/pandas-docs/stable/user_guide/indexing.html#returning-a-view-versus-a-copy\n",
      "  df_geo_closed.rename(columns={\"SIMS_LATITUDE\": \"Latitude\", \"SIMS_LONGITUDE\": \"Longitude\"}, inplace=True)\n",
      "/var/folders/ff/yktmxqg92pz87mqxrr842r1r0000gn/T/ipykernel_91925/1812062437.py:6: SettingWithCopyWarning: \n",
      "A value is trying to be set on a copy of a slice from a DataFrame\n",
      "\n",
      "See the caveats in the documentation: https://pandas.pydata.org/pandas-docs/stable/user_guide/indexing.html#returning-a-view-versus-a-copy\n",
      "  df_geo_closed.rename(columns={\"SIMS_LATITUDE\": \"Latitude\", \"SIMS_LONGITUDE\": \"Longitude\"}, inplace=True)\n",
      "/var/folders/ff/yktmxqg92pz87mqxrr842r1r0000gn/T/ipykernel_91925/1812062437.py:6: SettingWithCopyWarning: \n",
      "A value is trying to be set on a copy of a slice from a DataFrame\n",
      "\n",
      "See the caveats in the documentation: https://pandas.pydata.org/pandas-docs/stable/user_guide/indexing.html#returning-a-view-versus-a-copy\n",
      "  df_geo_closed.rename(columns={\"SIMS_LATITUDE\": \"Latitude\", \"SIMS_LONGITUDE\": \"Longitude\"}, inplace=True)\n",
      "/var/folders/ff/yktmxqg92pz87mqxrr842r1r0000gn/T/ipykernel_91925/1812062437.py:6: SettingWithCopyWarning: \n",
      "A value is trying to be set on a copy of a slice from a DataFrame\n",
      "\n",
      "See the caveats in the documentation: https://pandas.pydata.org/pandas-docs/stable/user_guide/indexing.html#returning-a-view-versus-a-copy\n",
      "  df_geo_closed.rename(columns={\"SIMS_LATITUDE\": \"Latitude\", \"SIMS_LONGITUDE\": \"Longitude\"}, inplace=True)\n",
      "/var/folders/ff/yktmxqg92pz87mqxrr842r1r0000gn/T/ipykernel_91925/1812062437.py:6: SettingWithCopyWarning: \n",
      "A value is trying to be set on a copy of a slice from a DataFrame\n",
      "\n",
      "See the caveats in the documentation: https://pandas.pydata.org/pandas-docs/stable/user_guide/indexing.html#returning-a-view-versus-a-copy\n",
      "  df_geo_closed.rename(columns={\"SIMS_LATITUDE\": \"Latitude\", \"SIMS_LONGITUDE\": \"Longitude\"}, inplace=True)\n"
     ]
    }
   ],
   "source": [
    "for year in range(2000,2025,5):\n",
    "    df = pd.read_csv(f'/Users/haouabenaliabbo/Desktop/M2 IREN/SD/SOD_CustomDownload_ALL_{year}_06_30.csv')\n",
    "    df_past=pd.read_csv(f'/Users/haouabenaliabbo/Desktop/M2 IREN/SD/SOD_CustomDownload_ALL_{year-5}_06_30.csv')\n",
    "    closed= df_past[~df_past.NAMEFULL.isin(df.NAMEFULL)]\n",
    "    df_geo_closed=closed[[\"NAMEFULL\",\"SIMS_LATITUDE\", \"SIMS_LONGITUDE\"]]\n",
    "    df_geo_closed.rename(columns={\"SIMS_LATITUDE\": \"Latitude\", \"SIMS_LONGITUDE\": \"Longitude\"}, inplace=True)\n",
    "    geometry = [Point(xy) for xy in zip(df_geo_closed[\"Longitude\"], df_geo_closed[\"Latitude\"])]\n",
    "    gdf_closed_2000 = GeoDataFrame(df_geo_closed, geometry=geometry)\n",
    "    gdf_closed_2000.to_file(f'/Users/haouabenaliabbo/Desktop/M2 IREN/SD/closed_{year}.shp')"
   ]
  },
  {
   "cell_type": "code",
   "execution_count": 56,
   "metadata": {},
   "outputs": [
    {
     "name": "stdout",
     "output_type": "stream",
     "text": [
      "There was 42007 closed bank branches in 2000\n",
      "There was 30418 closed bank branches in 2005\n",
      "There was 26164 closed bank branches in 2010\n",
      "There was 15085 closed bank branches in 2015\n",
      "There was 32162 closed bank branches in 2020\n"
     ]
    }
   ],
   "source": [
    "for year in range(2000,2025,5):\n",
    "    df = pd.read_csv(f'/Users/haouabenaliabbo/Desktop/M2 IREN/SD/SOD_CustomDownload_ALL_{year}_06_30.csv')\n",
    "    df_past=pd.read_csv(f'/Users/haouabenaliabbo/Desktop/M2 IREN/SD/SOD_CustomDownload_ALL_{year-5}_06_30.csv')\n",
    "    closed= df_past[~df_past.NAMEFULL.isin(df.NAMEFULL)]\n",
    "    df_geo_closed=closed[[\"NAMEFULL\"]]\n",
    "    print(f'There was {len(df_geo_closed)} closed bank branches in {year}')"
   ]
  }
 ],
 "metadata": {
  "kernelspec": {
   "display_name": "python38",
   "language": "python",
   "name": "python3"
  },
  "language_info": {
   "codemirror_mode": {
    "name": "ipython",
    "version": 3
   },
   "file_extension": ".py",
   "mimetype": "text/x-python",
   "name": "python",
   "nbconvert_exporter": "python",
   "pygments_lexer": "ipython3",
   "version": "3.8.18"
  }
 },
 "nbformat": 4,
 "nbformat_minor": 2
}
